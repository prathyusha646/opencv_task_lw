{
 "cells": [
  {
   "cell_type": "code",
   "execution_count": 1,
   "metadata": {},
   "outputs": [],
   "source": [
    "#Task 4.2\n",
    "#Take 2 image crop some part of both image and swap it. "
   ]
  },
  {
   "cell_type": "code",
   "execution_count": 2,
   "metadata": {},
   "outputs": [
    {
     "name": "stdout",
     "output_type": "stream",
     "text": [
      "(600, 600, 3)\n"
     ]
    }
   ],
   "source": [
    "#image1\n",
    "import cv2 ,numpy\n",
    "img1 = cv2.imread(\"Doraemon.png\")\n",
    "img1 = cv2.resize(img1,(600,600))\n",
    "cv2.imshow(\"Img1\",img1)\n",
    "if cv2.waitKey() == 13:\n",
    "    pass\n",
    "cv2.destroyAllWindows()\n",
    "print(img1.shape)"
   ]
  },
  {
   "cell_type": "code",
   "execution_count": 3,
   "metadata": {},
   "outputs": [
    {
     "name": "stdout",
     "output_type": "stream",
     "text": [
      "(600, 600, 3)\n"
     ]
    }
   ],
   "source": [
    "#image2\n",
    "img2 = cv2.imread(\"shinchan.jpg\")\n",
    "img2 = cv2.resize(img2,(600,600))\n",
    "cv2.imshow(\"Img2\",img2)\n",
    "if cv2.waitKey() == 13:\n",
    "    pass\n",
    "cv2.destroyAllWindows()\n",
    "print(img2.shape)"
   ]
  },
  {
   "cell_type": "code",
   "execution_count": 4,
   "metadata": {},
   "outputs": [],
   "source": [
    "#horizontal collage\n",
    "horizontal_img = numpy.hstack((img1,img2))\n",
    "cv2.imshow(\"Img1\",horizontal_img)\n",
    "if cv2.waitKey() == 13:\n",
    "    pass\n",
    "cv2.destroyAllWindows()"
   ]
  },
  {
   "cell_type": "code",
   "execution_count": 5,
   "metadata": {},
   "outputs": [],
   "source": [
    "#vertical collage\n",
    "vertical_img = numpy.vstack((img1,img2))\n",
    "vertical_img = cv2.resize(vertical_img,(600,600))\n",
    "cv2.imshow(\"Img1\",vertical_img)\n",
    "if cv2.waitKey() == 13:\n",
    "    pass\n",
    "cv2.destroyAllWindows()"
   ]
  },
  {
   "cell_type": "code",
   "execution_count": 6,
   "metadata": {},
   "outputs": [
    {
     "name": "stdout",
     "output_type": "stream",
     "text": [
      "(600, 150, 3)\n",
      "(600, 150, 3)\n"
     ]
    }
   ],
   "source": [
    "cropping_img1 = img1[:,150:300,:]\n",
    "print(cropping_img1.shape)\n",
    "cropping_img1 = cv2.resize(cropping_img1,(150,600))\n",
    "cv2.imshow(\"Img1\",cropping_img1)\n",
    "if cv2.waitKey() == 13:\n",
    "    pass\n",
    "cv2.destroyAllWindows() \n",
    "\n",
    "print(cropping_img1.shape)"
   ]
  },
  {
   "cell_type": "code",
   "execution_count": 7,
   "metadata": {},
   "outputs": [
    {
     "name": "stdout",
     "output_type": "stream",
     "text": [
      "(600, 230, 3)\n",
      "(600, 150, 3)\n"
     ]
    }
   ],
   "source": [
    "cropping_img2 = img2[:,320:550, : ]\n",
    "print(cropping_img2.shape)\n",
    "cropping_img2 = cv2.resize(cropping_img2,(150,600))\n",
    "cv2.imshow(\"Img1\",cropping_img2)\n",
    "if cv2.waitKey() == 13:\n",
    "    pass\n",
    "cv2.destroyAllWindows() \n",
    "print(cropping_img2.shape)"
   ]
  },
  {
   "cell_type": "code",
   "execution_count": 8,
   "metadata": {},
   "outputs": [],
   "source": [
    "final_img1 = img1\n",
    "final_img1[:,150:300,:]= cropping_img2[:,:,:]\n",
    "cv2.imshow(\"Img1\",final_img1)\n",
    "if cv2.waitKey() == 13:\n",
    "    pass\n",
    "cv2.destroyAllWindows() \n",
    "\n",
    "cv2.destroyAllWindows()"
   ]
  },
  {
   "cell_type": "code",
   "execution_count": 9,
   "metadata": {},
   "outputs": [],
   "source": [
    "final_img2 = img2\n",
    "cropping_img1 = cv2.resize(cropping_img1,(230,600))\n",
    "final_img2[:,320:550, : ]= cropping_img1[:,:,:]\n",
    "\n",
    "cv2.imshow(\"Img1\",final_img2)\n",
    "if cv2.waitKey() == 13:\n",
    "    pass\n",
    "cv2.destroyAllWindows()"
   ]
  },
  {
   "cell_type": "code",
   "execution_count": null,
   "metadata": {},
   "outputs": [],
   "source": []
  }
 ],
 "metadata": {
  "kernelspec": {
   "display_name": "Python 3",
   "language": "python",
   "name": "python3"
  },
  "language_info": {
   "codemirror_mode": {
    "name": "ipython",
    "version": 3
   },
   "file_extension": ".py",
   "mimetype": "text/x-python",
   "name": "python",
   "nbconvert_exporter": "python",
   "pygments_lexer": "ipython3",
   "version": "3.8.5"
  }
 },
 "nbformat": 4,
 "nbformat_minor": 4
}
